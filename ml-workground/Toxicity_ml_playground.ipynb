{
 "cells": [
  {
   "cell_type": "code",
   "execution_count": 1,
   "metadata": {},
   "outputs": [],
   "source": [
    "var csv = require('csv-parser');  "
   ]
  },
  {
   "cell_type": "code",
   "execution_count": 2,
   "metadata": {},
   "outputs": [],
   "source": [
    "var fs = require('fs');"
   ]
  },
  {
   "cell_type": "code",
   "execution_count": 6,
   "metadata": {},
   "outputs": [],
   "source": [
    "var csv_train_file_path = './data/train.csv'"
   ]
  },
  {
   "cell_type": "code",
   "execution_count": 8,
   "metadata": {},
   "outputs": [
    {
     "data": {
      "text/plain": [
       "CsvParser {\n",
       "  _readableState:\n",
       "   ReadableState {\n",
       "     objectMode: true,\n",
       "     highWaterMark: 16,\n",
       "     buffer: BufferList { head: null, tail: null, length: 0 },\n",
       "     length: 0,\n",
       "     pipes: null,\n",
       "     pipesCount: 0,\n",
       "     flowing: true,\n",
       "     ended: false,\n",
       "     endEmitted: false,\n",
       "     reading: false,\n",
       "     sync: false,\n",
       "     needReadable: false,\n",
       "     emittedReadable: false,\n",
       "     readableListening: false,\n",
       "     resumeScheduled: true,\n",
       "     paused: false,\n",
       "     emitClose: true,\n",
       "     autoDestroy: false,\n",
       "     destroyed: false,\n",
       "     defaultEncoding: 'utf8',\n",
       "     awaitDrain: 0,\n",
       "     readingMore: false,\n",
       "     decoder: null,\n",
       "     encoding: null },\n",
       "  readable: true,\n",
       "  _events:\n",
       "   [Object: null prototype] {\n",
       "     prefinish: [Function: prefinish],\n",
       "     unpipe: [Function: onunpipe],\n",
       "     drain: [Function: pipeOnDrainFunctionResult],\n",
       "     error: [Function: onerror],\n",
       "     close:\n",
       "      { [Function: bound onceWrapper] listener: [Function: onclose] },\n",
       "     finish:\n",
       "      { [Function: bound onceWrapper] listener: [Function: onfinish] },\n",
       "     data: [Function],\n",
       "     end: [Function] },\n",
       "  _eventsCount: 8,\n",
       "  _maxListeners: undefined,\n",
       "  _writableState:\n",
       "   WritableState {\n",
       "     objectMode: true,\n",
       "     highWaterMark: 16,\n",
       "     finalCalled: false,\n",
       "     needDrain: false,\n",
       "     ending: false,\n",
       "     ended: false,\n",
       "     finished: false,\n",
       "     destroyed: false,\n",
       "     decodeStrings: true,\n",
       "     defaultEncoding: 'utf8',\n",
       "     length: 0,\n",
       "     writing: false,\n",
       "     corked: 0,\n",
       "     sync: true,\n",
       "     bufferProcessing: false,\n",
       "     onwrite: [Function: bound onwrite],\n",
       "     writecb: null,\n",
       "     writelen: 0,\n",
       "     bufferedRequest: null,\n",
       "     lastBufferedRequest: null,\n",
       "     pendingcb: 0,\n",
       "     prefinished: false,\n",
       "     errorEmitted: false,\n",
       "     emitClose: true,\n",
       "     autoDestroy: false,\n",
       "     bufferedRequestCount: 0,\n",
       "     corkedRequestsFree:\n",
       "      { next: null,\n",
       "        entry: null,\n",
       "        finish: [Function: bound onCorkedFinish] } },\n",
       "  writable: true,\n",
       "  allowHalfOpen: true,\n",
       "  _transformState:\n",
       "   { afterTransform: [Function: bound afterTransform],\n",
       "     needTransform: false,\n",
       "     transforming: false,\n",
       "     writecb: null,\n",
       "     writechunk: null,\n",
       "     writeencoding: null },\n",
       "  customNewline: false,\n",
       "  escape: 34,\n",
       "  headers: null,\n",
       "  mapHeaders: [Function: mapHeaders],\n",
       "  mapValues: [Function: mapValues],\n",
       "  newline: 10,\n",
       "  quote: 34,\n",
       "  raw: false,\n",
       "  separator: 44,\n",
       "  skipComments: false,\n",
       "  skipLines: null,\n",
       "  maxRowBytes: 9007199254740991,\n",
       "  strict: false,\n",
       "  _prev: null,\n",
       "  _prevEnd: 0,\n",
       "  _first: true,\n",
       "  _quoted: false,\n",
       "  _escaped: false,\n",
       "  _empty: '',\n",
       "  _Row: null,\n",
       "  _currentRowBytes: 0,\n",
       "  _line: 0 }"
      ]
     },
     "execution_count": 8,
     "metadata": {},
     "output_type": "execute_result"
    },
    {
     "name": "stdout",
     "output_type": "stream",
     "text": [
      "CSV file successfully processed\n"
     ]
    }
   ],
   "source": [
    "var X = []\n",
    "var toxic_y = []\n",
    "var severe_toxic_y = []\n",
    "\n",
    "fs.createReadStream(csv_train_file_path)  \n",
    "  .pipe(csv())\n",
    "  .on('data', (row) => {\n",
    "    X.push(row.comment_text);\n",
    "    toxic_y.push(row.toxic)\n",
    "    severe_toxic_y.push(row.severe_toxic)\n",
    "  })\n",
    "  .on('end', () => {\n",
    "    console.log('CSV file successfully processed');\n",
    "  });"
   ]
  },
  {
   "cell_type": "code",
   "execution_count": null,
   "metadata": {},
   "outputs": [],
   "source": [
    "var normalize = require('normalize');"
   ]
  },
  {
   "cell_type": "code",
   "execution_count": 9,
   "metadata": {},
   "outputs": [
    {
     "ename": "ReferenceError",
     "evalue": "nlp is not defined",
     "output_type": "error",
     "traceback": [
      "evalmachine.<anonymous>:1",
      "doc = nlp(\"the guest-singer's björk   at seven thirty.\").normalize().out('text')",
      "^",
      "",
      "ReferenceError: nlp is not defined",
      "    at evalmachine.<anonymous>:1:1",
      "    at Script.runInThisContext (vm.js:124:20)",
      "    at Object.runInThisContext (vm.js:314:38)",
      "    at run ([eval]:1002:15)",
      "    at onRunRequest ([eval]:829:18)",
      "    at onMessage ([eval]:789:13)",
      "    at process.emit (events.js:193:13)",
      "    at emit (internal/child_process.js:850:12)",
      "    at processTicksAndRejections (internal/process/task_queues.js:81:17)"
     ]
    }
   ],
   "source": [
    "doc = nlp(\"the guest-singer's björk   at seven thirty.\").normalize().out('text')"
   ]
  },
  {
   "cell_type": "code",
   "execution_count": null,
   "metadata": {},
   "outputs": [],
   "source": []
  },
  {
   "cell_type": "code",
   "execution_count": null,
   "metadata": {},
   "outputs": [],
   "source": []
  },
  {
   "cell_type": "code",
   "execution_count": null,
   "metadata": {},
   "outputs": [],
   "source": []
  }
 ],
 "metadata": {
  "kernelspec": {
   "display_name": "Javascript (Node.js)",
   "language": "javascript",
   "name": "javascript"
  },
  "language_info": {
   "file_extension": ".js",
   "mimetype": "application/javascript",
   "name": "javascript",
   "version": "11.13.0"
  }
 },
 "nbformat": 4,
 "nbformat_minor": 2
}
